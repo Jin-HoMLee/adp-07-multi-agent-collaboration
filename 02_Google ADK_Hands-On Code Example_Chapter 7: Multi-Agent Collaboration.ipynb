{
 "cells": [
  {
   "cell_type": "markdown",
   "id": "7364143e",
   "metadata": {},
   "source": [
    "# Chapter 2: Routing"
   ]
  },
  {
   "cell_type": "markdown",
   "id": "4bcebe1b",
   "metadata": {},
   "source": [
    "## Hands-On Code Example (Google ADK)"
   ]
  },
  {
   "cell_type": "markdown",
   "id": "5a428add",
   "metadata": {},
   "source": [
    "> Adapted and modified from https://docs.google.com/document/d/1RZ5-2fykDQKOBx01pwfKkDe0GCs5ydca7xW9Q4wqS_M/edit?tab=t.0\n",
    "> \n",
    "> Mi  8 Okt 2025 16:20:48 BST"
   ]
  },
  {
   "cell_type": "markdown",
   "id": "b69354dd",
   "metadata": {},
   "source": [
    "The following code example demonstrates the establishment of a hierarchical agent structure within the Google ADK through the creation of a parent-child relationship. The code defines two types of agents: LlmAgent and a custom TaskExecutor agent derived from BaseAgent. The TaskExecutor is designed for specific, non-LLM tasks and in this example, it simply yields a \"Task finished successfully\" event. An LlmAgent named greeter is initialized with a specified model and instruction to act as a friendly greeter. The custom TaskExecutor is instantiated as task_doer. A parent LlmAgent called coordinator is created, also with a model and instructions. The coordinator's instructions guide it to delegate greetings to the greeter and task execution to the task_doer. The greeter and task_doer are added as sub-agents to the coordinator, establishing a parent-child relationship. The code then asserts that this relationship is correctly set up. Finally, it prints a message indicating that the agent hierarchy has been successfully created."
   ]
  },
  {
   "cell_type": "code",
   "execution_count": 1,
   "id": "c308e948",
   "metadata": {},
   "outputs": [],
   "source": [
    "from google.adk.agents import LlmAgent, BaseAgent\n",
    "from google.adk.agents.invocation_context import InvocationContext\n",
    "from google.adk.events import Event\n",
    "from typing import AsyncGenerator"
   ]
  },
  {
   "cell_type": "code",
   "execution_count": 2,
   "id": "513d1035",
   "metadata": {},
   "outputs": [],
   "source": [
    "# Correctly implement a custom agent by extending BaseAgent\n",
    "class TaskExecutor(BaseAgent):\n",
    "   \"\"\"A specialized agent with custom, non-LLM behavior.\"\"\"\n",
    "   name: str = \"TaskExecutor\"\n",
    "   description: str = \"Executes a predefined task.\"\n",
    "\n",
    "   async def _run_async_impl(self, context: InvocationContext) -> AsyncGenerator[Event, None]:\n",
    "       \"\"\"Custom implementation logic for the task.\"\"\"\n",
    "       # This is where your custom logic would go.\n",
    "       # For this example, we'll just yield a simple event.\n",
    "       yield Event(author=self.name, content=\"Task finished successfully.\")"
   ]
  },
  {
   "cell_type": "markdown",
   "id": "fa77b89f",
   "metadata": {},
   "source": [
    "**Note**: \n",
    "\n",
    "This code defines an asynchronous method that implements custom behavior for a Google ADK agent. Let`s break it down:\n",
    "\n",
    "**Method Signature** \n",
    "\n",
    "```python\n",
    "async def _run_async_impl(self, context: InvocationContext) -> AsyncGenerator[Event, None]:\n",
    "``` \n",
    "\n",
    "- `async def`: This is an asynchronous function that can be paused and resumed, allowing other code to run while waiting for operations to complete\n",
    "\n",
    "- `_run_async_impl`: This is a protected method (indicated by the leading underscore) that serves as the core implementation for the agent's behavior\n",
    "\n",
    "- `self`: Reference to the current agent instance\n",
    "\n",
    "- `context: InvocationContext`: Contains information about the current execution context, such as session state, user input, and other runtime data\n",
    "\n",
    "- `-> AsyncGenerator[Event, None]`: The return type annotation indicating this function yields `Event` objects asynchronously\n",
    "\n",
    "**What AsyncGenerator Means**\n",
    "\n",
    "An `AsyncGenerator` is like a regular generator but for asynchronous code. Instead of returning all values at once, it yields values one at a time, and each yield can be awaited. This is perfect for agent interactions where you might want to:\n",
    "\n",
    "- Send multiple messages over time\n",
    "\n",
    "- Process data in chunks\n",
    "\n",
    "- Provide real-time feedback\n",
    "\n",
    "**The Implementation**\n",
    "\n",
    "```python\n",
    "yield Event(author=self.name, content=\"Task finished successfully.\")\n",
    "``` \n",
    "\n",
    "- `yield`: Instead of `return`, this produces a value that can be consumed by the caller, but the function continues to exist and can yield more values\n",
    "\n",
    "- `Event(...)`: Creates an event object that represents something happening in the agent system\n",
    "\n",
    "- `author=self.name`: Sets the event's author to this agent's name\n",
    "\n",
    "- `content=\"Task finished successfully.\"`: The actual message or data being communicated\n",
    "\n",
    "**Why This Pattern?**\n",
    "\n",
    "This design allows agents to:\n",
    "\n",
    "1. **Stream responses**: Send multiple events over time rather than one big response\n",
    "\n",
    "2. **Provide updates**: Give progress reports during long-running tasks\n",
    "\n",
    "3. **Chain interactions**: Other agents can react to each event as it's yielded\n",
    "\n",
    "4. **Handle interruptions**: The async nature allows the system to handle cancellations or timeouts gracefully\n",
    "\n",
    "\n",
    "**Example Usage Context**\n",
    "\n",
    "In the broader context of your Google ADK agent hierarchy, when the `TaskExecutor` agent is invoked, this method will:\n",
    "\n",
    "1. Execute whatever custom logic you implement\n",
    "\n",
    "2. Yield an event indicating successful completion\n",
    "\n",
    "3. Allow the parent `Coordinator` agent to receive and potentially act on this event\n",
    "\n",
    "This is a simple example, but in a real implementation, you might yield multiple events showing progress, results, or different types of notifications."
   ]
  },
  {
   "cell_type": "code",
   "execution_count": 3,
   "id": "1303d68d",
   "metadata": {},
   "outputs": [],
   "source": [
    "# Define individual agents with proper initialization\n",
    "# LlmAgent requires a model to be specified.\n",
    "greeter = LlmAgent(\n",
    "   name=\"Greeter\",\n",
    "   model=\"gemini-2.0-flash-exp\",\n",
    "   instruction=\"You are a friendly greeter.\"\n",
    ")\n",
    "task_doer = TaskExecutor() # Instantiate our concrete custom agent"
   ]
  },
  {
   "cell_type": "code",
   "execution_count": 4,
   "id": "a75f8cf5",
   "metadata": {},
   "outputs": [],
   "source": [
    "# Create a parent agent and assign its sub-agents\n",
    "# The parent agent's description and instructions should guide its delegation logic.\n",
    "coordinator = LlmAgent(\n",
    "   name=\"Coordinator\",\n",
    "   model=\"gemini-2.0-flash-exp\",\n",
    "   description=\"A coordinator that can greet users and execute tasks.\",\n",
    "   instruction=\"When asked to greet, delegate to the Greeter. When asked to perform a task, delegate to the TaskExecutor.\",\n",
    "   sub_agents=[\n",
    "       greeter,\n",
    "       task_doer\n",
    "   ]\n",
    ")"
   ]
  },
  {
   "cell_type": "code",
   "execution_count": 5,
   "id": "e16e0587",
   "metadata": {},
   "outputs": [
    {
     "name": "stdout",
     "output_type": "stream",
     "text": [
      "Agent hierarchy created successfully.\n"
     ]
    }
   ],
   "source": [
    "# The ADK framework automatically establishes the parent-child relationships.\n",
    "# These assertions will pass if checked after initialization.\n",
    "assert greeter.parent_agent == coordinator\n",
    "assert task_doer.parent_agent == coordinator\n",
    "\n",
    "print(\"Agent hierarchy created successfully.\")"
   ]
  },
  {
   "cell_type": "markdown",
   "id": "830276ea",
   "metadata": {},
   "source": [
    "This code excerpt illustrates the employment of the LoopAgent within the Google ADK framework to establish iterative workflows. The code defines two agents: ConditionChecker and ProcessingStep. ConditionChecker is a custom agent that checks a \"status\" value in the session state. If the \"status\" is \"completed\", ConditionChecker escalates an event to stop the loop. Otherwise, it yields an event to continue the loop. ProcessingStep is an LlmAgent using the \"gemini-2.0-flash-exp\" model. Its instruction is to perform a task and set the session \"status\" to \"completed\" if it's the final step. A LoopAgent named StatusPoller is created. StatusPoller is configured with max_iterations=10. StatusPoller includes both ProcessingStep and an instance of ConditionChecker as sub-agents. The LoopAgent will execute the sub-agents sequentially for up to 10 iterations, stopping if ConditionChecker finds the status is \"completed\"."
   ]
  },
  {
   "cell_type": "markdown",
   "id": "e5ec61c5",
   "metadata": {},
   "source": []
  }
 ],
 "metadata": {
  "kernelspec": {
   "display_name": ".venv",
   "language": "python",
   "name": "python3"
  },
  "language_info": {
   "codemirror_mode": {
    "name": "ipython",
    "version": 3
   },
   "file_extension": ".py",
   "mimetype": "text/x-python",
   "name": "python",
   "nbconvert_exporter": "python",
   "pygments_lexer": "ipython3",
   "version": "3.13.5"
  }
 },
 "nbformat": 4,
 "nbformat_minor": 5
}
